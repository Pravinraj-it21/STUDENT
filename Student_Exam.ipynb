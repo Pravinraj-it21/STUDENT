{
 "cells": [
  {
   "cell_type": "code",
   "execution_count": null,
   "id": "559b680d-5005-4292-9ecf-52547ca5be2e",
   "metadata": {},
   "outputs": [],
   "source": [
    "import warnings\n",
    "warnings.filterwarnings(\"ignore\")\n",
    "import pandas as pd\n",
    "df=pd.read_csv('student_exam_data.csv')\n",
    "df"
   ]
  },
  {
   "cell_type": "code",
   "execution_count": null,
   "id": "9c57b033-7b56-498a-9c39-29ab9d13096e",
   "metadata": {},
   "outputs": [],
   "source": [
    "print(df.isna().sum())"
   ]
  },
  {
   "cell_type": "code",
   "execution_count": null,
   "id": "6579cee7-c99f-4c95-8775-078e3aa3e1e8",
   "metadata": {},
   "outputs": [],
   "source": [
    "import matplotlib.pyplot as plt\n",
    "df['Pass/Fail'].value_counts().plot(kind='bar')"
   ]
  },
  {
   "cell_type": "code",
   "execution_count": null,
   "id": "f2bdb949-cad0-4403-9847-d41cf3b05010",
   "metadata": {},
   "outputs": [],
   "source": [
    "import seaborn as sns\n",
    "sns.stripplot(y=df['Study Hours'],x=df['Pass/Fail'])"
   ]
  },
  {
   "cell_type": "code",
   "execution_count": null,
   "id": "ec53f163-9369-4da5-8258-415a98f2848d",
   "metadata": {},
   "outputs": [],
   "source": [
    "from sklearn.linear_model import LogisticRegression\n",
    "from sklearn.model_selection import train_test_split\n",
    "model = LogisticRegression()"
   ]
  },
  {
   "cell_type": "code",
   "execution_count": null,
   "id": "344cb85a-c1d4-4048-aada-5229c8ab7c16",
   "metadata": {},
   "outputs": [],
   "source": [
    "x = df.drop(columns=['Pass/Fail'])\n",
    "y = df['Pass/Fail']\n",
    "X_train,X_test,y_train,y_test = train_test_split(x,y,test_size = 0.3)\n",
    "model.fit(X_train,y_train)\n",
    "model.score(X_train,y_train)"
   ]
  },
  {
   "cell_type": "code",
   "execution_count": null,
   "id": "c5705279-a5ac-46e4-93c9-83ddf6a3d772",
   "metadata": {},
   "outputs": [],
   "source": []
  },
  {
   "cell_type": "code",
   "execution_count": null,
   "id": "c47e57ac-0b90-45b3-8635-3ecfd17ea823",
   "metadata": {},
   "outputs": [],
   "source": []
  }
 ],
 "metadata": {
  "kernelspec": {
   "display_name": "Python 3 (ipykernel)",
   "language": "python",
   "name": "python3"
  },
  "language_info": {
   "codemirror_mode": {
    "name": "ipython",
    "version": 3
   },
   "file_extension": ".py",
   "mimetype": "text/x-python",
   "name": "python",
   "nbconvert_exporter": "python",
   "pygments_lexer": "ipython3",
   "version": "3.12.1"
  }
 },
 "nbformat": 4,
 "nbformat_minor": 5
}
